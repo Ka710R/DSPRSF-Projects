{
 "cells": [
  {
   "cell_type": "code",
   "execution_count": null,
   "metadata": {},
   "outputs": [],
   "source": [
    "import numpy as np\n",
    "\n",
    "def cpu_guess(digit):\n",
    "    top = 101\n",
    "    low = 0\n",
    "    counter = 1\n",
    "    guess = (top+low) // 2\n",
    "    \n",
    "    while digit != guess: #создаем цикл\n",
    "        counter += 1\n",
    "        guess = (top+low) // 2\n",
    "        \n",
    "        if digit > guess:\n",
    "            low = guess\n",
    "        elif digit < guess:\n",
    "            top = guess\n",
    "    return(counter) #После успеха выходим из цикла\n",
    "\n",
    "        \n",
    "def score_game(cpu_guess):    \n",
    "    '''Запускаем игру 1000 раз, чтобы узнать, как быстро игра угадывает число'''\n",
    "    count_ls = []\n",
    "    np.random.seed(1)  # фиксируем RANDOM SEED, чтобы ваш эксперимент был воспроизводим!\n",
    "    random_array = np.random.randint(1,101, size=(1000))\n",
    "    for digit in random_array:\n",
    "        count_ls.append(cpu_guess(digit))\n",
    "    score = int(np.mean(count_ls))\n",
    "    print(f\"Ваш алгоритм угадывает число в среднем за {score} попыток\")\n",
    "    return(score)\n",
    "\n",
    "score_game(cpu_guess)\n",
    "        "
   ]
  },
  {
   "cell_type": "code",
   "execution_count": null,
   "metadata": {},
   "outputs": [],
   "source": []
  }
 ],
 "metadata": {
  "kernelspec": {
   "display_name": "Python 3",
   "language": "python",
   "name": "python3"
  },
  "language_info": {
   "codemirror_mode": {
    "name": "ipython",
    "version": 3
   },
   "file_extension": ".py",
   "mimetype": "text/x-python",
   "name": "python",
   "nbconvert_exporter": "python",
   "pygments_lexer": "ipython3",
   "version": "3.8.3"
  }
 },
 "nbformat": 4,
 "nbformat_minor": 4
}
